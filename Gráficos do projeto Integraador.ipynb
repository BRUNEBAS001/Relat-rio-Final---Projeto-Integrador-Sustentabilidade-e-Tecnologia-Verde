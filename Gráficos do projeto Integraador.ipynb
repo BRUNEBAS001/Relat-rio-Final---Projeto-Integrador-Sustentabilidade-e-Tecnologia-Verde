#Código para os gráficos.

import pandas as pd
import numpy as np
import matplotlib.pyplot as plt
import seaborn as sns
from sklearn.preprocessing import StandardScaler, OneHotEncoder
from sklearn.compose import ColumnTransformer
from sklearn.pipeline import Pipeline
from sklearn.cluster import KMeans
from sklearn.tree import DecisionTreeClassifier, plot_tree
from sklearn.model_selection import train_test_split
from sklearn.metrics import accuracy_score, classification_report, silhouette_score
import warnings

# Ignorar warnings para melhor visualização
warnings.filterwarnings('ignore')

# Configurar opções do pandas para melhor visualização
pd.set_option('display.max_columns', None)
pd.set_option('display.max_rows', 10)

print("--- 1. Bibliotecas Importadas e Configurações Aplicadas ---")

## 2. Geração/Carregamento de Dados (DATASET SIMULADO COM BASE NO SEU RELATÓRIO)
# ESTA É A SEÇÃO CRÍTICA PARA GARANTIR QUE 'df' SEJA CRIADO!
# ATENÇÃO: Se você tem o seu dataset real, SUBSTITUA esta seção!
# Ex: df = pd.read_csv('caminho/para/seu_arquivo.csv')
# Ex: df = pd.read_excel('caminho/para/seu_arquivo.xlsx')

np.random.seed(42) # Para reprodutibilidade

num_records = 200000
countries = [
    'Brazil', 'USA', 'China', 'India', 'Germany', 'France', 'UK', 'Japan',
    'Canada', 'Australia', 'South Africa', 'Nigeria', 'Egypt', 'Mexico',
    'Argentina', 'Italy', 'Spain', 'Russia', 'Indonesia', 'Saudi Arabia',
    'United Arab Emirates', 'Sweden', 'Norway', 'Finland', 'Denmark',
    'Netherlands', 'Belgium', 'Switzerland', 'Austria', 'South Korea',
    'New Zealand', 'Colombia', 'Chile', 'Peru', 'Vietnam', 'Thailand',
    'Malaysia', 'Philippines', 'Pakistan', 'Bangladesh', 'Turkey', 'Iran',
    'Poland', 'Ukraine', 'Greece', 'Portugal', 'Ireland', 'Czech Republic',
    'Hungary', 'Romania', 'Morocco', 'Algeria', 'Kenya', 'Ethiopia',
    'Tanzania', 'Uganda', 'Ghana', 'Cote d\'Ivoire', 'Angola', 'DR Congo',
    'Mozambique', 'Zambia', 'Zimbabwe', 'Madagascar', 'Cameroon', 'Senegal',
    'Tunisia', 'Libya', 'Ecuador', 'Venezuela', 'Bolivia', 'Paraguay',
    'Uruguay', 'Cuba', 'Dominican Republic', 'Guatemala', 'Honduras',
    'El Salvador', 'Nicaragua', 'Costa Rica', 'Panama', 'Jamaica', 'Trinidad and Tobago',
    'Myanmar', 'Sri Lanka', 'Nepal', 'Uzbekistan', 'Kazakhstan', 'Azerbaijan',
    'Georgia', 'Armenia', 'Jordan', 'Lebanon', 'Israel', 'Palestine', 'Syria',
    'Iraq', 'Kuwait', 'Bahrain', 'Qatar', 'Oman', 'Yemen', 'Afghanistan',
    'Nepal', 'Bhutan', 'Maldives', 'Sri Lanka', 'Mauritius', 'Fiji', 'Papua New Guinea'
] # Lista mais abrangente para simular dados globais

years = np.arange(1990, 2024)

# Gerar dados aleatoriamente
df_data = {
    'Country': np.random.choice(countries, num_records),
    'Year': np.random.choice(years, num_records),
    'Renewable EnergyShare': np.random.uniform(5, 80, num_records).round(2), # % de energia renovável
    'CO2 Emissions': np.random.normal(loc=1000, scale=300, size=num_records).astype(int), # em milhões de toneladas
    'GreenInvestment': np.random.normal(loc=100, scale=50, size=num_records).astype(int), # em milhões de USD
    'Environmental Policy': np.random.uniform(0, 10, num_records).round(1), # Índice de política ambiental (0=ruim, 10=ótimo)
    'SustainableProjects': np.random.randint(0, 20, num_records), # Número de projetos sustentáveis
    'ESG_Communication': np.random.choice(['Sim', 'Não'], num_records, p=[0.4, 0.6]), # Simulação do insight ESG
    'Initial_Cost_Barrier': np.random.choice(['Sim', 'Não'], num_records, p=[0.6, 0.4]), # Simulação do insight de custo
    'Fiscal_Incentives_Available': np.random.choice(['Sim', 'Não'], num_records, p=[0.3, 0.7]), # Simulação do insight de incentivos
}

df = pd.DataFrame(df_data)

# Criar 'Market_Value_Growth_Perc' baseada em 'ESG_Communication' (simulando o insight)
# Empresas com comunicação ESG "Sim" têm crescimento médio maior
df['Market_Value_Growth_Perc'] = df['ESG_Communication'].apply(
    lambda x: np.random.normal(loc=18, scale=5) if x == 'Sim' else np.random.normal(loc=5, scale=3)
).round(2)

# Criar 'Technology_Adoption' (alvo para Árvore de Decisão) baseada em outros fatores
# Exemplo: Maior investimento e melhores políticas levam a maior adoção
df['Technology_Adoption_Score'] = (
    df['GreenInvestment'] * 0.01 +
    df['Environmental Policy'].fillna(df['Environmental Policy'].mean()) * 5 + # Tratamento de NaN temporário para score
    df['Renewable EnergyShare'] * 0.5 -
    df['CO2 Emissions'] * 0.001
)
df['Technology_Adoption'] = pd.qcut(
    df['Technology_Adoption_Score'],
    q=3,
    labels=['Baixa', 'Média', 'Alta']
)
# Remover a coluna de score auxiliar
df = df.drop(columns=['Technology_Adoption_Score'])

# Introduzir valores nulos para simular "dados menos completos" (conforme seu PDF)
# ~5% de nulos em Environmental Policy e SustainableProjects
df.loc[df.sample(frac=0.05).index, 'Environmental Policy'] = np.nan
df.loc[df.sample(frac=0.05).index, 'SustainableProjects'] = np.nan

print("--- 2. DataFrame simulado criado com sucesso ---")
print(f"Número de registros: {len(df)}")
print("\nPrimeiras 5 linhas do DataFrame:")
print(df.head())
print("\nInformações do DataFrame:")
df.info()
print("\nVerificação de valores nulos:")
print(df.isnull().sum())


## 3. Análise Exploratória de Dados (EDA) e Geração de Gráficos

print("\n--- 3. Análise Exploratória e Geração de Gráficos ---")

print("\nEstatísticas Descritivas:")
print(df.describe())

# Visualização da distribuição das variáveis numéricas
plt.figure(figsize=(15, 10))
plt.subplot(2, 3, 1)
sns.histplot(df['Renewable EnergyShare'], kde=True)
plt.title('Distribuição da % de Energia Renovável')

plt.subplot(2, 3, 2)
sns.histplot(df['CO2 Emissions'], kde=True)
plt.title('Distribuição de Emissões de CO2 (ton)')

plt.subplot(2, 3, 3)
sns.histplot(df['GreenInvestment'], kde=True)
plt.title('Distribuição de Investimento Verde (USD)')

plt.subplot(2, 3, 4)
sns.histplot(df['Environmental Policy'].dropna(), kde=True) # Usar dropna() para lidar com nulos no plot
plt.title('Distribuição do Índice de Política Ambiental')

plt.subplot(2, 3, 5)
sns.histplot(df['SustainableProjects'].dropna(), kde=True) # Usar dropna() para lidar com nulos no plot
plt.title('Distribuição do Nº de Projetos Sustentáveis')

plt.subplot(2, 3, 6)
sns.histplot(df['Market_Value_Growth_Perc'], kde=True)
plt.title('Distribuição do Crescimento do Valor de Mercado (%)')

plt.tight_layout()
plt.show()
print("Gráficos de distribuição de variáveis numéricas gerados.")

# Contagem de valores para variáveis categóricas
print("\nContagem de valores para ESG_Communication:")
print(df['ESG_Communication'].value_counts())

print("\nContagem de valores para Initial_Cost_Barrier:")
print(df['Initial_Cost_Barrier'].value_counts())

print("\nContagem de valores para Fiscal_Incentives_Available:")
print(df['Fiscal_Incentives_Available'].value_counts())

print("\nContagem de valores para Technology_Adoption:")
print(df['Technology_Adoption'].value_counts())

# Análise de correlação para variáveis numéricas (se houver interesse)
plt.figure(figsize=(10, 8))
sns.heatmap(df.select_dtypes(include=np.number).corr(), annot=True, cmap='coolwarm', fmt=".2f")
plt.title('Mapa de Calor de Correlação entre Variáveis Numéricas')
plt.show()
print("Mapa de calor de correlação gerado.")


# --- Gráficos para Reforçar os Insights do Relatório ---

# Gráfico 1: Tendência de Compartilhamento de Energia Renovável e Emissões de CO2 ao Longo do Tempo (Média Global)
df_yearly_avg = df.groupby('Year').agg({
    'Renewable EnergyShare': 'mean',
    'CO2 Emissions': 'mean'
}).reset_index()

plt.figure(figsize=(12, 6))
plt.plot(df_yearly_avg['Year'], df_yearly_avg['Renewable EnergyShare'], marker='o', label='Média de % de Energia Renovável')
# Ajuste da escala de CO2 para melhor visualização no mesmo gráfico de %
plt.plot(df_yearly_avg['Year'], df_yearly_avg['CO2 Emissions'] / 100, marker='x', linestyle='--', color='red', label='Média de Emissões de CO2 (ton, escala ajustada)')
plt.title('Tendência Global de Energia Renovável e Emissões de CO2 (1990-2023)')
plt.xlabel('Ano')
plt.ylabel('Valor Médio')
plt.grid(True)
plt.legend()
plt.tight_layout()
# Para salvar o gráfico para o PDF:
plt.savefig('grafico1_tendencia_energia_emissoes.png', dpi=300)
plt.show()
print("Gráfico 1: Tendência de Energia Renovável e Emissões de CO2 ao longo do tempo gerado.")

# Gráfico 2: Relação entre Investimento Verde e Projetos Sustentáveis
plt.figure(figsize=(10, 7))
sns.scatterplot(x='GreenInvestment', y='SustainableProjects', data=df, alpha=0.6, hue='Technology_Adoption', palette='viridis')
plt.title('Relação entre Investimento Verde e Número de Projetos Sustentáveis')
plt.xlabel('Investimento Verde (Milhões de USD)')
plt.ylabel('Número de Projetos Sustentáveis')
plt.grid(True)
plt.tight_layout()
plt.savefig('grafico2_investimento_projetos.png', dpi=300)
plt.show()
print("Gráfico 2: Relação entre Investimento Verde e Projetos Sustentáveis gerado.")

# Gráfico 3: Impacto da Comunicação ESG no Crescimento do Valor de Mercado (Reforçando Insight #1)
plt.figure(figsize=(8, 6))
sns.boxplot(x='ESG_Communication', y='Market_Value_Growth_Perc', data=df, palette='Pastel1')
plt.title('Insight #1: Crescimento do Valor de Mercado por Comunicação de Metas ESG')
plt.xlabel('Comunicação de Metas ESG')
plt.ylabel('Crescimento do Valor de Mercado (%)')
plt.tight_layout()
plt.savefig('grafico3_esg_crescimento_valor_mercado.png', dpi=300)
plt.show()
print("Gráfico 3: Impacto da Comunicação ESG no Crescimento do Valor de Mercado gerado.")

# Gráfico 4: Barreiras de Custo e Incentivos Fiscais na Adoção de Tecnologia (Reforçando Insight #2)
plt.figure(figsize=(12, 7))

plt.subplot(1, 2, 1)
sns.countplot(x='Initial_Cost_Barrier', hue='Technology_Adoption', data=df, palette='Set2')
plt.title('Adoção de Tecnologia vs. Barreira de Custo Inicial')
plt.xlabel('Custo Inicial é Barreira?')
plt.ylabel('Contagem de Registros')
plt.legend(title='Adoção de Tecnologia')

plt.subplot(1, 2, 2)
sns.countplot(x='Fiscal_Incentives_Available', hue='Technology_Adoption', data=df, palette='Set2')
plt.title('Adoção de Tecnologia vs. Incentivos Fiscais Disponíveis')
plt.xlabel('Incentivos Fiscais Disponíveis?')
plt.ylabel('Contagem de Registros')
plt.legend(title='Adoção de Tecnologia')

plt.tight_layout()
plt.savefig('grafico4_barreiras_incentivos_adocao.png', dpi=300)
plt.show()
print("Gráfico 4: Barreiras de Custo e Incentivos Fiscais na Adoção de Tecnologia gerado.")

# Gráfico 5: Distribuição do Índice de Política Ambiental
plt.figure(figsize=(10, 6))
sns.histplot(df['Environmental Policy'].dropna(), kde=True, bins=20, color='green')
plt.title('Distribuição do Índice de Política Ambiental')
plt.xlabel('Índice de Política Ambiental (0-10)')
plt.ylabel('Frequência')
plt.grid(axis='y', alpha=0.75)
plt.tight_layout()
plt.savefig('grafico5_distribuicao_politica_ambiental.png', dpi=300)
plt.show()
print("Gráfico 5: Distribuição do Índice de Política Ambiental gerado.")

# Gráfico 6: Top N Países com Maiores/Menores Emissões de CO2
df_country_co2 = df.groupby('Country')['CO2 Emissions'].mean().sort_values(ascending=False).reset_index()

plt.figure(figsize=(15, 7))

# Top 10 maiores emissores
plt.subplot(1, 2, 1)
sns.barplot(x='CO2 Emissions', y='Country', data=df_country_co2.head(10), palette='Reds_d')
plt.title('Top 10 Países com Maiores Emissões Médias de CO2')
plt.xlabel('Emissões Médias de CO2 (ton)')
plt.ylabel('País')

# Top 10 menores emissores (invertido para aparecer do menor para o maior no gráfico)
plt.subplot(1, 2, 2)
sns.barplot(x='CO2 Emissions', y='Country', data=df_country_co2.tail(10).sort_values(by='CO2 Emissions', ascending=True), palette='Greens_d')
plt.title('Top 10 Países com Menores Emissões Médias de CO2')
plt.xlabel('Emissões Médias de CO2 (ton)')
plt.ylabel('País')

plt.tight_layout()
plt.savefig('grafico6_top_paises_emissoes_co2.png', dpi=300)
plt.show()
print("Gráfico 6: Top Países com Maiores/Menores Emissões de CO2 gerado.")

print("\n--- Geração de todos os gráficos concluída! ---")

# --- PRÉ-PROCESSAMENTO PARA K-MEANS E ÁRVORE DE DECISÃO (Próxima Etapa) ---

print("\n--- Iniciando Pré-processamento de Dados para Modelagem ---")

# Identificar colunas numéricas e categóricas para o pré-processamento
numerical_cols = df.select_dtypes(include=np.number).columns.tolist()
categorical_cols = df.select_dtypes(include='object').columns.tolist()

# Remover colunas que não devem ser usadas diretamente nos modelos ou que são targets
# Ex: 'EmpresaID', 'Technology_Adoption' (será target), 'Country' 
if 'Country' in categorical_cols: # Remover Country se for para usar OneHot, pois tem muitos valores
    categorical_cols.remove('Country')
if 'EmpresaID' in numerical_cols:
    numerical_cols.remove('EmpresaID')
if 'Technology_Adoption' in categorical_cols: # 'Technology_Adoption' é nosso target para a árvore de decisão
    categorical_cols.remove('Technology_Adoption')
if 'Market_Value_Growth_Perc' in numerical_cols: # Pode ser um target ou feature, dependendo do contexto. Manter por enquanto.
    pass

# Tratamento de valores nulos (Imputação) - Mediana para numéricas, Moda para categóricas
for col in numerical_cols:
    if df[col].isnull().sum() > 0:
        df[col].fillna(df[col].median(), inplace=True)

for col in categorical_cols:
    if df[col].isnull().sum() > 0:
        df[col].fillna(df[col].mode()[0], inplace=True)

print("\nValores nulos após imputação:")
print(df.isnull().sum())

# Criar pipelines de pré-processamento
# Para colunas numéricas: imputar nulos (já feito) e escalar
numerical_transformer = Pipeline(steps=[
    ('scaler', StandardScaler())
])

# Para colunas categóricas: imputar nulos (já feito) e One-Hot Encoding
categorical_transformer = Pipeline(steps=[
    ('onehot', OneHotEncoder(handle_unknown='ignore'))
])

# Combinar transformadores
preprocessor = ColumnTransformer(
    transformers=[
        ('num', numerical_transformer, numerical_cols),
        ('cat', categorical_transformer, categorical_cols)
    ],
    remainder='passthrough' # Manter colunas não especificadas
)

print("\n--- Pré-processamento de Dados Concluído. Pronto para K-Means e Árvore de Decisão ---")

## 4. Aplicação do K-means

print("\n--- 4. Aplicação do K-means ---")

# Preparar os dados para o K-means (apenas colunas numéricas pré-processadas)
# As colunas categóricas também precisam ser codificadas para o K-means
# Vamos aplicar o preprocessor a um subset de colunas que faz sentido para clusterização
# Excluindo 'Country' e o target 'Technology_Adoption'
features_for_kmeans = [col for col in numerical_cols + categorical_cols if col not in ['Country', 'Technology_Adoption']]

# Aplicar o pré-processador para obter as features transformadas
X_processed_kmeans = preprocessor.fit_transform(df[numerical_cols + categorical_cols])

# Determinar o número ideal de clusters (Método do Cotovelo)
ssd = [] # Sum of squared distances (Soma das Distâncias Quadradas)
K_range = range(1, 11) # Testar de 1 a 10 clusters
for k in K_range:
    kmeans_model = KMeans(n_clusters=k, random_state=42, n_init=10) # n_init=10 para evitar warning
    kmeans_model.fit(X_processed_kmeans)
    ssd.append(kmeans_model.inertia_)

plt.figure(figsize=(10, 6))
plt.plot(K_range, ssd, marker='o')
plt.title('Método do Cotovelo para K-means')
plt.xlabel('Número de Clusters (K)')
plt.ylabel('Soma dos Quadrados das Distâncias (SSD)')
plt.xticks(K_range)
plt.grid(True)
plt.show()
print("Gráfico do Método do Cotovelo gerado. Analise-o para escolher o K ideal.")

# Escolha o número de clusters (ex: 3, 4 ou 5, baseado no cotovelo)
# Vamos escolher K=3 como exemplo para continuar. Você pode ajustar.
chosen_k = 3
kmeans = KMeans(n_clusters=chosen_k, random_state=42, n_init=10)
df['Cluster_KMeans'] = kmeans.fit_predict(X_processed_kmeans)

print(f"\nDataFrame com {chosen_k} clusters K-Means adicionados:")
print(df[['Country', 'Year', 'Renewable EnergyShare', 'CO2 Emissions', 'GreenInvestment', 'Cluster_KMeans']].head())
print("\nTamanho dos clusters:")
print(df['Cluster_KMeans'].value_counts())

# Análise dos perfis dos clusters
print("\nPerfis dos Clusters K-Means (Média das variáveis originais por cluster):")
print(df.groupby('Cluster_KMeans')[numerical_cols].mean())

# Visualização dos clusters 
if len(df) > 10000: # Se o DataFrame for muito grande, sample para o pairplot
    df_sample = df.sample(n=10000, random_state=42)
else:
    df_sample = df

# Selecionar algumas colunas numéricas importantes para visualização dos clusters
cols_for_cluster_viz = ['Renewable EnergyShare', 'CO2 Emissions', 'GreenInvestment', 'Environmental Policy']
if all(col in df_sample.columns for col in cols_for_cluster_viz):
    sns.pairplot(df_sample, vars=cols_for_cluster_viz, hue='Cluster_KMeans', palette='deep', diag_kind='kde')
    plt.suptitle(f'Visualização de Clusters K-Means (K={chosen_k})', y=1.02)
    plt.show()
    print("Visualização de clusters K-Means gerada (Pairplot de variáveis chave).")
else:
    print("Não foi possível gerar Pairplot para clusters: Algumas colunas selecionadas para visualização não estão presentes.")

print("\n--- K-Means Concluído ---")


## 5. Aplicação da Árvore de Decisão

print("\n--- 5. Aplicação da Árvore de Decisão ---")

# Definir Features (X) e Target (y)
# 'Technology_Adoption' é o nosso target categórico
X = df.drop(columns=['Technology_Adoption', 'Country', 'EmpresaID']) # Excluímos 'Country' e 'EmpresaID' do X para simplicidade, e o próprio target
y = df['Technology_Adoption']

# Ajustar numerical_cols e categorical_cols para o ColumnTransformer de X
# Refazer a lista de colunas para X
numerical_cols_X = X.select_dtypes(include=np.number).columns.tolist()
categorical_cols_X = X.select_dtypes(include='object').columns.tolist()

# Criar o pré-processador para as features de X

preprocessor_tree = ColumnTransformer(
    transformers=[
        ('num', StandardScaler(), numerical_cols_X), # Escalar numéricas
        ('cat', OneHotEncoder(handle_unknown='ignore'), categorical_cols_X) # One-hot categóricas
    ],
    remainder='passthrough'
)

# Dividir os dados em conjuntos de treino e teste
X_train, X_test, y_train, y_test = train_test_split(X, y, test_size=0.05, random_state=42, stratify=y) # test_size menor para agilizar, stratify para manter proporção das classes

# Aplicar pré-processamento aos dados de treino e teste
X_train_processed = preprocessor_tree.fit_transform(X_train)
X_test_processed = preprocessor_tree.transform(X_test)

# Mapear nomes das features após one-hot encoding
feature_names = numerical_cols_X + list(preprocessor_tree.named_transformers_['cat'].named_steps['onehot'].get_feature_names_out(categorical_cols_X))

# Inicializar e treinar o modelo de Árvore de Decisão
dt_classifier = DecisionTreeClassifier(max_depth=5, random_state=42) # max_depth para limitar a complexidade
dt_classifier.fit(X_train_processed, y_train)

# Fazer previsões
y_pred = dt_classifier.predict(X_test_processed)

# Avaliar o modelo
print("\nRelatório de Classificação da Árvore de Decisão:")
print(classification_report(y_test, y_pred))
print(f"Acurácia do Modelo: {accuracy_score(y_test, y_pred):.2f}")

# Visualizar a Árvore de Decisão (Pode ser grande, ajuste figsize)
plt.figure(figsize=(25, 15))
plot_tree(dt_classifier, filled=True, feature_names=feature_names, class_names=dt_classifier.classes_.tolist(), rounded=True, fontsize=10)
plt.title('Árvore de Decisão para Adoção de Tecnologia')
plt.savefig('arvore_decisao_adocao_tecnologia.png', dpi=300) # Salva a árvore
plt.show()
print("Árvore de Decisão gerada e salva como 'arvore_decisao_adocao_tecnologia.png'.")

# Interpretação da Árvore (Feature Importances)
print("\nImportância das Features na Árvore de Decisão:")
feature_importances = pd.DataFrame({
    'Feature': feature_names,
    'Importance': dt_classifier.feature_importances_
}).sort_values(by='Importance', ascending=False)
print(feature_importances.head(10)) # Mostra as 10 features mais importantes

print("\n--- Árvore de Decisão Concluída ---")

print("\n--- PROJETO INTEGRADO CONCLUÍDO ---")
