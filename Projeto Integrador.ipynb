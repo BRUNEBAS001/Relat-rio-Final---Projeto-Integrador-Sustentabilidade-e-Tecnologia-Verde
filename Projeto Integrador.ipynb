

#Manipulação de Dados com Pandas (Adaptação para o Projeto Integrador)

## Importação de Bibliotecas

import pandas as pd
import numpy as np
import matplotlib.pyplot as plt
import seaborn as sns
from sklearn.preprocessing import StandardScaler, OneHotEncoder
from sklearn.compose import ColumnTransformer
from sklearn.pipeline import Pipeline
from sklearn.cluster import KMeans
from sklearn.tree import DecisionTreeClassifier, plot_tree
from sklearn.model_selection import train_test_split
from sklearn.metrics import accuracy_score, classification_report, silhouette_score
import warnings

# Ignorar warnings para melhor visualização
warnings.filterwarnings('ignore')

# Configurar opções do pandas para melhor visualização
pd.set_option('display.max_columns', None)
pd.set_option('display.max_rows', 10) # Ajustado para 10 linhas para não poluir demais a saída inicial

##  Geração/Carregamento de Dados (DATASET SIMULADO COM BASE NO RELATÓRIO)
# Ex: df = pd.read_csv
# Ex: df = pd.read_excel

np.random.seed(42) # Para reprodutibilidade

num_records = 200000
countries = [
    'Brazil', 'USA', 'China', 'India', 'Germany', 'France', 'UK', 'Japan',
    'Canada', 'Australia', 'South Africa', 'Nigeria', 'Egypt', 'Mexico',
    'Argentina', 'Italy', 'Spain', 'Russia', 'Indonesia', 'Saudi Arabia',
    'United Arab Emirates', 'Sweden', 'Norway', 'Finland', 'Denmark',
    'Netherlands', 'Belgium', 'Switzerland', 'Austria', 'South Korea',
    'New Zealand', 'Colombia', 'Chile', 'Peru', 'Vietnam', 'Thailand',
    'Malaysia', 'Philippines', 'Pakistan', 'Bangladesh', 'Turkey', 'Iran',
    'Poland', 'Ukraine', 'Greece', 'Portugal', 'Ireland', 'Czech Republic',
    'Hungary', 'Romania', 'Morocco', 'Algeria', 'Kenya', 'Ethiopia',
    'Tanzania', 'Uganda', 'Ghana', 'Cote d\'Ivoire', 'Angola', 'DR Congo',
    'Mozambique', 'Zambia', 'Zimbabwe', 'Madagascar', 'Cameroon', 'Senegal',
    'Tunisia', 'Libya', 'Ecuador', 'Venezuela', 'Bolivia', 'Paraguay',
    'Uruguay', 'Cuba', 'Dominican Republic', 'Guatemala', 'Honduras',
    'El Salvador', 'Nicaragua', 'Costa Rica', 'Panama', 'Jamaica', 'Trinidad and Tobago',
    'Myanmar', 'Sri Lanka', 'Nepal', 'Uzbekistan', 'Kazakhstan', 'Azerbaijan',
    'Georgia', 'Armenia', 'Jordan', 'Lebanon', 'Israel', 'Palestine', 'Syria',
    'Iraq', 'Kuwait', 'Bahrain', 'Qatar', 'Oman', 'Yemen', 'Afghanistan',
    'Nepal', 'Bhutan', 'Maldives', 'Sri Lanka', 'Mauritius', 'Fiji', 'Papua New Guinea'
] # Lista mais abrangente para simular dados globais

years = np.arange(1990, 2024)

# Gerar dados aleatoriamente
df_data = {
    'Country': np.random.choice(countries, num_records),
    'Year': np.random.choice(years, num_records),
    'Renewable EnergyShare': np.random.uniform(5, 80, num_records).round(2), # % de energia renovável
    'CO2 Emissions': np.random.normal(loc=1000, scale=300, size=num_records).astype(int), # em milhões de toneladas
    'GreenInvestment': np.random.normal(loc=100, scale=50, size=num_records).astype(int), # em milhões de USD
    'Environmental Policy': np.random.uniform(0, 10, num_records).round(1), # Índice de política ambiental (0=ruim, 10=ótimo)
    'SustainableProjects': np.random.randint(0, 20, num_records), # Número de projetos sustentáveis
    'ESG_Communication': np.random.choice(['Sim', 'Não'], num_records, p=[0.4, 0.6]), # Simulação do insight ESG
    'Initial_Cost_Barrier': np.random.choice(['Sim', 'Não'], num_records, p=[0.6, 0.4]), # Simulação do insight de custo
    'Fiscal_Incentives_Available': np.random.choice(['Sim', 'Não'], num_records, p=[0.3, 0.7]), # Simulação do insight de incentivos
}

df = pd.DataFrame(df_data)

# Criar 'Market_Value_Growth_Perc' baseada em 'ESG_Communication' (simulando o insight)
# Empresas com comunicação ESG "Sim" têm crescimento médio maior
df['Market_Value_Growth_Perc'] = df['ESG_Communication'].apply(
    lambda x: np.random.normal(loc=18, scale=5) if x == 'Sim' else np.random.normal(loc=5, scale=3)
).round(2)

# Criar 'Technology_Adoption' (alvo para Árvore de Decisão) baseada em outros fatores
# Exemplo: Maior investimento e melhores políticas levam a maior adoção
df['Technology_Adoption_Score'] = (
    df['GreenInvestment'] * 0.01 +
    df['Environmental Policy'] * 5 +
    df['Renewable EnergyShare'] * 0.5 -
    df['CO2 Emissions'] * 0.001
)
df['Technology_Adoption'] = pd.qcut(
    df['Technology_Adoption_Score'],
    q=3,
    labels=['Baixa', 'Média', 'Alta']
)

# Introduzir valores nulos para simular "dados menos completos" (conforme seu PDF)
# ~5% de nulos em Environmental Policy e SustainableProjects
df.loc[df.sample(frac=0.05).index, 'Environmental Policy'] = np.nan
df.loc[df.sample(frac=0.05).index, 'SustainableProjects'] = np.nan

print("DataFrame simulado criado com sucesso, baseado nas especificações do seu relatório!")
print(f"Número de registros: {len(df)}")
print("\nPrimeiras 5 linhas do DataFrame:")
print(df.head())
print("\nInformações do DataFrame:")
df.info()
print("\nVerificação de valores nulos:")
print(df.isnull().sum())

## Análise Exploratória de Dados (EDA)

print("\nEstatísticas Descritivas:")
print(df.describe())

# Visualização da distribuição das variáveis numéricas
plt.figure(figsize=(15, 10))
plt.subplot(2, 3, 1)
sns.histplot(df['Renewable EnergyShare'], kde=True)
plt.title('Distribuição da % de Energia Renovável')

plt.subplot(2, 3, 2)
sns.histplot(df['CO2 Emissions'], kde=True)
plt.title('Distribuição de Emissões de CO2 (ton)')

plt.subplot(2, 3, 3)
sns.histplot(df['GreenInvestment'], kde=True)
plt.title('Distribuição de Investimento Verde (USD)')

plt.subplot(2, 3, 4)
sns.histplot(df['Environmental Policy'], kde=True)
plt.title('Distribuição do Índice de Política Ambiental')

plt.subplot(2, 3, 5)
sns.histplot(df['SustainableProjects'], kde=True)
plt.title('Distribuição do Nº de Projetos Sustentáveis')

plt.subplot(2, 3, 6)
sns.histplot(df['Market_Value_Growth_Perc'], kde=True)
plt.title('Distribuição do Crescimento do Valor de Mercado (%)')

plt.tight_layout()
plt.show()

# Contagem de valores para variáveis categóricas
print("\nContagem de valores para ESG_Communication:")
print(df['ESG_Communication'].value_counts())

print("\nContagem de valores para Initial_Cost_Barrier:")
print(df['Initial_Cost_Barrier'].value_counts())

print("\nContagem de valores para Fiscal_Incentives_Available:")
print(df['Fiscal_Incentives_Available'].value_counts())

print("\nContagem de valores para Technology_Adoption:")
print(df['Technology_Adoption'].value_counts())

# Análise de correlação para variáveis numéricas (se houver interesse)
plt.figure(figsize=(10, 8))
sns.heatmap(df.select_dtypes(include=np.number).corr(), annot=True, cmap='coolwarm', fmt=".2f")
plt.title('Mapa de Calor de Correlação entre Variáveis Numéricas')
plt.show()

# Exemplo de visualização para o Insight 1: Crescimento do valor de mercado por comunicação ESG
plt.figure(figsize=(8, 6))
sns.boxplot(x='ESG_Communication', y='Market_Value_Growth_Perc', data=df)
plt.title('Crescimento do Valor de Mercado por Comunicação ESG')
plt.xlabel('Comunicação de Metas ESG')
plt.ylabel('Crescimento do Valor de Mercado (%)')
plt.show()

# Exemplo de visualização para o Insight 2: Adoção de Tecnologia por Barreira de Custo
plt.figure(figsize=(8, 6))
sns.countplot(x='Initial_Cost_Barrier', hue='Technology_Adoption', data=df)
plt.title('Adoção de Tecnologia por Barreira de Custo Inicial')
plt.xlabel('Custo Inicial é Barreira?')
plt.ylabel('Contagem')
plt.show()
